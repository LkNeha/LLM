{
 "cells": [
  {
   "cell_type": "code",
   "execution_count": 13,
   "metadata": {},
   "outputs": [
    {
     "name": "stdout",
     "output_type": "stream",
     "text": [
      "594\n",
      "{'!': 0, '\"': 1, \"'\": 2, '(': 3, ')': 4, ',': 5, '--': 6, '.': 7, '0': 8, '1': 9, '13reason': 10, '14': 11, '15thought': 12, '16persistence': 13, '17to': 14, '18brings': 15, '1929': 16, '19This': 17, '20': 18, '21About': 19, '4': 20, ':': 21, ';': 22, '?': 23, 'A': 24, 'And': 25, 'Are': 26, 'At': 27, 'Attribution-ShareAlike': 28, 'Begin': 29, 'But': 30, 'By': 31, 'Commons': 32, 'Creative': 33, 'Devonshire': 34, 'Don': 35, 'During': 36, 'FDL': 37, 'For': 38, 'GNU': 39, 'Greek': 40, 'Grindle': 41, 'Hang': 42, 'He': 43, 'His': 44, 'How': 45, 'I': 46, 'If': 47, 'It': 48, 'January': 49, 'Jove': 50, 'Just': 51, 'Lord': 52, 'Mrs': 53, 'My': 54, 'Now': 55, 'Of': 56, 'Oh': 57, 'Once': 58, 'Only': 59, 'Rickham': 60, 'She': 61, 'States': 62, 'Stroud': 63, 'Strouds': 64, 'Suddenly': 65, 'That': 66, 'The': 67, 'Then': 68, 'There': 69, 'They': 70, 'This': 71, 'Those': 72, 'United': 73, 'Unported': 74, 'We': 75, 'Well': 76, 'When': 77, 'Why': 78, 'Wikisource': 79, 'Yes': 80, 'You': 81, '_': 82, 'a': 83, 'able': 84, 'about': 85, 'above': 86, 'absorbed': 87, 'accessible': 88, 'added': 89, 'adopted': 90, 'advance': 91, 'aesthetic': 92, 'affect': 93, 'afraid': 94, 'afterward': 95, 'again': 96, 'alive': 97, 'all': 98, 'alone': 99, 'along': 100, 'always': 101, 'am': 102, 'among': 103, 'amusing': 104, 'an': 105, 'and': 106, 'another': 107, 'answer': 108, 'any': 109, 'anything': 110, 'anywhere': 111, 'apply': 112, 'are': 113, 'areas': 114, 'arm-chair': 115, 'arm-chairs': 116, 'arms': 117, 'art': 118, 'as': 119, 'at': 120, 'attack': 121, 'attention': 122, 'back': 123, 'be': 124, 'beard': 125, 'because': 126, 'bed': 127, 'been': 128, 'before': 129, 'began': 130, 'behind': 131, 'being': 132, 'believed': 133, 'beneath': 134, 'better': 135, 'between': 136, 'bits': 137, 'bitterness': 138, 'blocked': 139, 'book': 140, 'books': 141, 'born': 142, 'bravura': 143, 'built': 144, 'but': 145, 'by': 146, 'called': 147, 'can': 148, 'canvas': 149, 'cards': 150, 'care': 151, 'career': 152, 'caught': 153, 'chimney-piece': 154, 'choice': 155, 'cigarette': 156, 'cigars': 157, 'clasping': 158, 'clear': 159, 'close': 160, 'collapsed': 161, 'collection': 162, 'colour': 163, 'come': 164, 'comes': 165, 'comfortable': 166, 'coming': 167, 'commercial': 168, 'committed': 169, 'companion': 170, 'constantly': 171, 'continued': 172, 'contributed': 173, 'copyright': 174, 'copyrighted': 175, 'could': 176, 'couldn': 177, 'countries': 178, 'course': 179, 'covered': 180, 'crowned': 181, 'crumbled': 182, 'curiosity': 183, 'current': 184, 'd': 185, 'dabble': 186, 'dashed': 187, 'day': 188, 'dead': 189, 'dear': 190, 'deep': 191, 'deprecating': 192, 'desire': 193, 'destruction': 194, 'developing': 195, 'did': 196, 'didn': 197, 'died': 198, 'digital': 199, 'dingy': 200, 'disease': 201, 'distract': 202, 'distribute': 203, 'do': 204, 'doing': 205, 'domain': 206, 'don': 207, 'done': 208, 'donkey': 209, 'down': 210, 'e-book': 211, 'e-books': 212, 'earth': 213, 'easel': 214, 'echoed': 215, 'edition': 216, 'egregious': 217, 'elbow': 218, 'else': 219, 'end': 220, 'enough': 221, 'errors': 222, 'even': 223, 'everlasting': 224, 'every': 225, 'exasperated': 226, 'exploitation': 227, 'exterminating': 228, 'eyes': 229, 'face': 230, 'faces': 231, 'fact': 232, 'failed': 233, 'failure': 234, 'fancy': 235, 'felt': 236, 'fingers': 237, 'first': 238, 'five': 239, 'flashed': 240, 'fluently': 241, 'flung': 242, 'followed': 243, 'following': 244, 'for': 245, 'foreign': 246, 'forgive': 247, 'forgotten': 248, 'forward': 249, 'foundations': 250, 'free': 251, 'from': 252, 'furiously': 253, 'gesture': 254, 'get': 255, 'getting': 256, 'give': 257, 'given': 258, 'glad': 259, 'glory': 260, 'go': 261, 'gone': 262, 'good-humoured': 263, 'got': 264, 'grace': 265, 'gray': 266, 'grayish': 267, 'great': 268, 'greatest': 269, 'groping': 270, 'had': 271, 'hadn': 272, 'half': 273, 'half-mechanically': 274, 'hand': 275, 'hanging': 276, 'happen': 277, 'happened': 278, 'hard': 279, 'have': 280, 'he': 281, 'head': 282, 'hear': 283, 'heart': 284, 'her': 285, 'here': 286, 'high': 287, 'him': 288, 'himself': 289, 'his': 290, 'history': 291, 'holding': 292, 'honour': 293, 'hours': 294, 'house': 295, 'how': 296, 'hung': 297, 'husband': 298, 'idea': 299, 'idle': 300, 'if': 301, 'in': 302, 'including': 303, 'insignificant': 304, 'into': 305, 'irony': 306, 'is': 307, 'it': 308, 'just': 309, 'kept': 310, 'kind': 311, 'knew': 312, 'know': 313, 'known': 314, 'laid': 315, 'language': 316, 'last': 317, 'late': 318, 'laugh': 319, 'laughed': 320, 'lay': 321, 'learned': 322, 'leave': 323, 'left': 324, 'let': 325, 'letters': 326, 'library': 327, 'license': 328, 'lies': 329, 'life-likeness': 330, 'light': 331, 'like': 332, 'liked': 333, 'line': 334, 'lips': 335, 'little': 336, 'll': 337, 'loathing': 338, 'longer': 339, 'looked': 340, 'looking': 341, 'lying': 342, 'made': 343, 'magazines': 344, 'make': 345, 'man': 346, 'may': 347, 'me': 348, 'meant': 349, 'medium': 350, 'members': 351, 'merely': 352, 'met': 353, 'mighty': 354, 'mine': 355, 'minute': 356, 'minutes': 357, 'mood': 358, 'more': 359, 'most': 360, 'moved': 361, 'much': 362, 'muddling': 363, 'multilingual': 364, 'my': 365, 'myself': 366, 'native': 367, 'near': 368, 'negatived': 369, 'nervous': 370, 'never': 371, 'new': 372, 'next': 373, 'no': 374, 'not': 375, 'note': 376, 'nothing': 377, 'novels': 378, 'now': 379, 'of': 380, 'off': 381, 'oh': 382, 'on': 383, 'once': 384, 'one': 385, 'ones': 386, 'online': 387, 'only': 388, 'or': 389, 'our': 390, 'ourselves': 391, 'out': 392, 'own': 393, 'packed': 394, 'page': 395, 'paint': 396, 'painted': 397, 'painting': 398, 'passages': 399, 'pathos': 400, 'patient': 401, 'phrase': 402, 'picture': 403, 'placed': 404, 'plain': 405, 'platitudes': 406, 'pleased': 407, 'poems': 408, 'poor': 409, 'portrait': 410, 'posing': 411, 'possessed': 412, 'possible': 413, 'poverty': 414, 'preliminary': 415, 'previous': 416, 'princely': 417, 'prodigious': 418, 'proofreading': 419, 'public': 420, 'publications': 421, 'published': 422, 'purpose': 423, 'pushed': 424, 'put': 425, 'queerly': 426, 'question': 427, 'quietly': 428, 'rather': 429, 're': 430, 'reason': 431, 'recovering': 432, 'recreated': 433, 'remember': 434, 'report': 435, 'rest': 436, 'romantic': 437, 'room': 438, 'rule': 439, 's': 440, 'said': 441, 'satisfaction': 442, 'saw': 443, 'say': 444, 'says': 445, 'scornful': 446, 'secret': 447, 'see': 448, 'seemed': 449, 'sensation': 450, 'sent': 451, 'serious': 452, 'set': 453, 'shaking': 454, 'she': 455, 'shirked': 456, 'shorter': 457, 'should': 458, 'shoulder': 459, 'show': 460, 'showy': 461, 'shrug': 462, 'sight': 463, 'simply': 464, 'since': 465, 'sitters': 466, 'sketch': 467, 'slightly': 468, 'smile': 469, 'sneer': 470, 'so': 471, 'some': 472, 'somebody': 473, 'something': 474, 'splash': 475, 'stammer': 476, 'stand': 477, 'started': 478, 'starting': 479, 'stay': 480, 'still': 481, 'stood': 482, 'stopping': 483, 'straight': 484, 'strange': 485, 'straw': 486, 'stream': 487, 'stroke': 488, 'strokes': 489, 'subject': 490, 'such': 491, 'suddenly': 492, 'suggested': 493, 'superb': 494, 'sure': 495, 'surprised': 496, 'suspected': 497, 'swept': 498, 'swum': 499, 't': 500, 'take': 501, 'taken': 502, 'talking': 503, 'technique': 504, 'tell': 505, 'tells': 506, 'term': 507, 'terms': 508, 'terribly': 509, 'that': 510, 'the': 511, 'their': 512, 'them': 513, 'then': 514, 'there': 515, 'they': 516, 'thing': 517, 'things': 518, 'think': 519, 'this': 520, 'those': 521, 'thought': 522, 'threw': 523, 'through': 524, 'tie': 525, 'till': 526, 'time': 527, 'to': 528, 'told': 529, 'too': 530, 'tottering': 531, 'toward': 532, 'transcription': 533, 'traps': 534, 'tricks': 535, 'tried': 536, 'true': 537, 'truth': 538, 'turned': 539, 'twenty': 540, 'twenty-four': 541, 'twice': 542, 'twirling': 543, 'uncertain': 544, 'under': 545, 'underneath': 546, 'understand': 547, 'untouched': 548, 'up': 549, 'up-stream': 550, 'upset': 551, 'us': 552, 'use': 553, 'users': 554, 'usual': 555, 've': 556, 'volunteers': 557, 'wall': 558, 'wander': 559, 'want': 560, 'wants': 561, 'was': 562, 'wasn': 563, 'watched': 564, 'watching': 565, 'way': 566, 'we': 567, 'went': 568, 'were': 569, 'what': 570, 'when': 571, 'where': 572, 'which': 573, 'who': 574, 'whole': 575, 'why': 576, 'wife': 577, 'wild': 578, 'wincing': 579, 'wish': 580, 'with': 581, 'without': 582, 'wits': 583, 'work': 584, 'working': 585, 'works': 586, 'worth': 587, 'would': 588, 'wouldn': 589, 'years': 590, 'you': 591, 'your': 592, 'yourself': 593}\n",
      "['!', '\"', \"'\", '(', ')', ',', '--', '.', '0', '1', '13reason', '14', '15thought', '16persistence', '17to', '18brings', '1929', '19This', '20', '21About', '4', ':', ';', '?', 'A', 'And', 'Are', 'At', 'Attribution-ShareAlike', 'Begin', 'But', 'By', 'Commons', 'Creative', 'Devonshire', 'Don', 'During', 'FDL', 'For', 'GNU', 'Greek', 'Grindle', 'Hang', 'He', 'His', 'How', 'I', 'If', 'It', 'January', 'Jove', 'Just', 'Lord', 'Mrs', 'My', 'Now', 'Of', 'Oh', 'Once', 'Only', 'Rickham', 'She', 'States', 'Stroud', 'Strouds', 'Suddenly', 'That', 'The', 'Then', 'There', 'They', 'This', 'Those', 'United', 'Unported', 'We', 'Well', 'When', 'Why', 'Wikisource', 'Yes', 'You', '_', 'a', 'able', 'about', 'above', 'absorbed', 'accessible', 'added', 'adopted', 'advance', 'aesthetic', 'affect', 'afraid', 'afterward', 'again', 'alive', 'all', 'alone', 'along', 'always', 'am', 'among', 'amusing', 'an', 'and', 'another', 'answer', 'any', 'anything', 'anywhere', 'apply', 'are', 'areas', 'arm-chair', 'arm-chairs', 'arms', 'art', 'as', 'at', 'attack', 'attention', 'back', 'be', 'beard', 'because', 'bed', 'been', 'before', 'began', 'behind', 'being', 'believed', 'beneath', 'better', 'between', 'bits', 'bitterness', 'blocked', 'book', 'books', 'born', 'bravura', 'built', 'but', 'by', 'called', 'can', 'canvas', 'cards', 'care', 'career', 'caught', 'chimney-piece', 'choice', 'cigarette', 'cigars', 'clasping', 'clear', 'close', 'collapsed', 'collection', 'colour', 'come', 'comes', 'comfortable', 'coming', 'commercial', 'committed', 'companion', 'constantly', 'continued', 'contributed', 'copyright', 'copyrighted', 'could', 'couldn', 'countries', 'course', 'covered', 'crowned', 'crumbled', 'curiosity', 'current', 'd', 'dabble', 'dashed', 'day', 'dead', 'dear', 'deep', 'deprecating', 'desire', 'destruction', 'developing', 'did', 'didn', 'died', 'digital', 'dingy', 'disease', 'distract', 'distribute', 'do', 'doing', 'domain', 'don', 'done', 'donkey', 'down', 'e-book', 'e-books', 'earth', 'easel', 'echoed', 'edition', 'egregious', 'elbow', 'else', 'end', 'enough', 'errors', 'even', 'everlasting', 'every', 'exasperated', 'exploitation', 'exterminating', 'eyes', 'face', 'faces', 'fact', 'failed', 'failure', 'fancy', 'felt', 'fingers', 'first', 'five', 'flashed', 'fluently', 'flung', 'followed', 'following', 'for', 'foreign', 'forgive', 'forgotten', 'forward', 'foundations', 'free', 'from', 'furiously', 'gesture', 'get', 'getting', 'give', 'given', 'glad', 'glory', 'go', 'gone', 'good-humoured', 'got', 'grace', 'gray', 'grayish', 'great', 'greatest', 'groping', 'had', 'hadn', 'half', 'half-mechanically', 'hand', 'hanging', 'happen', 'happened', 'hard', 'have', 'he', 'head', 'hear', 'heart', 'her', 'here', 'high', 'him', 'himself', 'his', 'history', 'holding', 'honour', 'hours', 'house', 'how', 'hung', 'husband', 'idea', 'idle', 'if', 'in', 'including', 'insignificant', 'into', 'irony', 'is', 'it', 'just', 'kept', 'kind', 'knew', 'know', 'known', 'laid', 'language', 'last', 'late', 'laugh', 'laughed', 'lay', 'learned', 'leave', 'left', 'let', 'letters', 'library', 'license', 'lies', 'life-likeness', 'light', 'like', 'liked', 'line', 'lips', 'little', 'll', 'loathing', 'longer', 'looked', 'looking', 'lying', 'made', 'magazines', 'make', 'man', 'may', 'me', 'meant', 'medium', 'members', 'merely', 'met', 'mighty', 'mine', 'minute', 'minutes', 'mood', 'more', 'most', 'moved', 'much', 'muddling', 'multilingual', 'my', 'myself', 'native', 'near', 'negatived', 'nervous', 'never', 'new', 'next', 'no', 'not', 'note', 'nothing', 'novels', 'now', 'of', 'off', 'oh', 'on', 'once', 'one', 'ones', 'online', 'only', 'or', 'our', 'ourselves', 'out', 'own', 'packed', 'page', 'paint', 'painted', 'painting', 'passages', 'pathos', 'patient', 'phrase', 'picture', 'placed', 'plain', 'platitudes', 'pleased', 'poems', 'poor', 'portrait', 'posing', 'possessed', 'possible', 'poverty', 'preliminary', 'previous', 'princely', 'prodigious', 'proofreading', 'public', 'publications', 'published', 'purpose', 'pushed', 'put', 'queerly', 'question', 'quietly', 'rather', 're', 'reason', 'recovering', 'recreated', 'remember', 'report', 'rest', 'romantic', 'room', 'rule', 's', 'said', 'satisfaction', 'saw', 'say', 'says', 'scornful', 'secret', 'see', 'seemed', 'sensation', 'sent', 'serious', 'set', 'shaking', 'she', 'shirked', 'shorter', 'should', 'shoulder', 'show', 'showy', 'shrug', 'sight', 'simply', 'since', 'sitters', 'sketch', 'slightly', 'smile', 'sneer', 'so', 'some', 'somebody', 'something', 'splash', 'stammer', 'stand', 'started', 'starting', 'stay', 'still', 'stood', 'stopping', 'straight', 'strange', 'straw', 'stream', 'stroke', 'strokes', 'subject', 'such', 'suddenly', 'suggested', 'superb', 'sure', 'surprised', 'suspected', 'swept', 'swum', 't', 'take', 'taken', 'talking', 'technique', 'tell', 'tells', 'term', 'terms', 'terribly', 'that', 'the', 'their', 'them', 'then', 'there', 'they', 'thing', 'things', 'think', 'this', 'those', 'thought', 'threw', 'through', 'tie', 'till', 'time', 'to', 'told', 'too', 'tottering', 'toward', 'transcription', 'traps', 'tricks', 'tried', 'true', 'truth', 'turned', 'twenty', 'twenty-four', 'twice', 'twirling', 'uncertain', 'under', 'underneath', 'understand', 'untouched', 'up', 'up-stream', 'upset', 'us', 'use', 'users', 'usual', 've', 'volunteers', 'wall', 'wander', 'want', 'wants', 'was', 'wasn', 'watched', 'watching', 'way', 'we', 'went', 'were', 'what', 'when', 'where', 'which', 'who', 'whole', 'why', 'wife', 'wild', 'wincing', 'wish', 'with', 'without', 'wits', 'work', 'working', 'works', 'worth', 'would', 'wouldn', 'years', 'you', 'your', 'yourself']\n"
     ]
    }
   ],
   "source": [
    "import re\n",
    "with open (\"verdict.txt\",\"r\", encoding=\"latin-1\") as f:\n",
    "    raw_text = f.read()\n",
    "\n",
    "# print(len(raw_text))\n",
    "# print(raw_text[:99])\n",
    "\n",
    "# result=[]\n",
    "# text = \"hello?':'()n' world. this, can be a test.\"\n",
    "preprocessed=re.split(r'([,>.<:;!?_\"()\\']|--|\\s)',raw_text)\n",
    "preprocessed=[item.strip()for item in preprocessed if item.strip()]\n",
    "# print(len(preprocessed))\n",
    "# print(preprocessed)\n",
    "#assign token id to token but for this the token should be arrange in alphabetical order\n",
    "all_words=sorted(set(preprocessed))# consist of only unique words\n",
    "vocab_size=len(all_words)\n",
    "print(vocab_size)\n",
    "vocab={token:integer for integer,token in enumerate(all_words)}\n",
    "print(vocab)\n",
    "print(all_words)"
   ]
  },
  {
   "cell_type": "code",
   "execution_count": 14,
   "metadata": {},
   "outputs": [],
   "source": [
    "class SimpleTokenizerV1:\n",
    "    def __init__(self, vocab):\n",
    "        self.str_to_int = vocab\n",
    "        self.int_to_str = {i:s for s,i in vocab.items()}\n",
    "    \n",
    "    def encode(self, text):\n",
    "        preprocessed = re.split(r'([,.:;?_!\"()\\']|--|\\s)', text)\n",
    "                                \n",
    "        preprocessed = [\n",
    "            item.strip() for item in preprocessed if item.strip()\n",
    "        ]\n",
    "        ids = [self.str_to_int[s] for s in preprocessed]\n",
    "        return ids\n",
    "        \n",
    "    def decode(self, ids):\n",
    "        text = \" \".join([self.int_to_str[i] for i in ids])\n",
    "        # Replace spaces before the specified punctuations\n",
    "        text = re.sub(r'\\s+([,.?!\"()\\'])', r'\\1', text)\n",
    "        return text"
   ]
  }
 ],
 "metadata": {
  "kernelspec": {
   "display_name": "Python 3",
   "language": "python",
   "name": "python3"
  },
  "language_info": {
   "codemirror_mode": {
    "name": "ipython",
    "version": 3
   },
   "file_extension": ".py",
   "mimetype": "text/x-python",
   "name": "python",
   "nbconvert_exporter": "python",
   "pygments_lexer": "ipython3",
   "version": "3.10.0"
  }
 },
 "nbformat": 4,
 "nbformat_minor": 2
}
